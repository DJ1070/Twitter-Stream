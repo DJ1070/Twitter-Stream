{
 "metadata": {
  "language_info": {
   "codemirror_mode": {
    "name": "ipython",
    "version": 3
   },
   "file_extension": ".py",
   "mimetype": "text/x-python",
   "name": "python",
   "nbconvert_exporter": "python",
   "pygments_lexer": "ipython3",
   "version": "3.8.5-final"
  },
  "orig_nbformat": 2,
  "kernelspec": {
   "name": "python385jvsc74a57bd0b3ba2566441a7c06988d0923437866b63cedc61552a5af99d1f4fb67d367b25f",
   "display_name": "Python 3.8.5 64-bit (conda)"
  }
 },
 "nbformat": 4,
 "nbformat_minor": 2,
 "cells": [
  {
   "cell_type": "code",
   "execution_count": 1,
   "metadata": {},
   "outputs": [],
   "source": [
    "# This is just to explore some of the twitter data a little bit\n",
    "\n",
    "import pandas as pd\n",
    "import numpy as np"
   ]
  },
  {
   "cell_type": "code",
   "execution_count": 2,
   "metadata": {},
   "outputs": [],
   "source": [
    "df = pd.read_csv(\"results-20210419-092004.csv\")"
   ]
  },
  {
   "cell_type": "code",
   "execution_count": 3,
   "metadata": {},
   "outputs": [
    {
     "output_type": "execute_result",
     "data": {
      "text/plain": [
       "      lang possibly_sensitive profile_background_color  \\\n",
       "0       th              False                   0A0A0A   \n",
       "1       ja              False                   000E2E   \n",
       "2       en              False                   222322   \n",
       "3       en                NaN                   F07AC7   \n",
       "4       ja                NaN                   C4A4DB   \n",
       "...    ...                ...                      ...   \n",
       "15995   es                NaN                   FFF04D   \n",
       "15996   in                NaN                   A22BA8   \n",
       "15997   ja                NaN                   642D8B   \n",
       "15998   en                NaN                   DBE9ED   \n",
       "15999   in              False                   ACDED6   \n",
       "\n",
       "                            profile_background_image_url profile_link_color  \\\n",
       "0       http://abs.twimg.com/images/themes/theme6/bg.gif             F58EA8   \n",
       "1       http://abs.twimg.com/images/themes/theme1/bg.png             1750EB   \n",
       "2       http://abs.twimg.com/images/themes/theme9/bg.gif             0084B4   \n",
       "3       http://abs.twimg.com/images/themes/theme1/bg.png             000000   \n",
       "4       http://abs.twimg.com/images/themes/theme1/bg.png             9266CC   \n",
       "...                                                  ...                ...   \n",
       "15995  http://abs.twimg.com/images/themes/theme19/bg.gif             0099CC   \n",
       "15996   http://abs.twimg.com/images/themes/theme5/bg.gif             722980   \n",
       "15997   http://abs.twimg.com/images/themes/theme1/bg.png             E81C4F   \n",
       "15998  http://abs.twimg.com/images/themes/theme17/bg.gif             3A3A3A   \n",
       "15999  http://abs.twimg.com/images/themes/theme18/bg.gif             F5ABB5   \n",
       "\n",
       "         user profile_sidebar_fill_color profile_text_color  \\\n",
       "0      000000                     A0C5C7             333333   \n",
       "1      000000                     EFF6FC             00297A   \n",
       "2      FFFFFF                     252429             666666   \n",
       "3      000000                     DDEEF6             333333   \n",
       "4      65B0DA                     7AC3EE             3D1957   \n",
       "...       ...                        ...                ...   \n",
       "15995  FFFFFF                     F6FFD1             333333   \n",
       "15996  000000                     99CC33             3E4415   \n",
       "15997  65B0DA                     7AC3EE             3D1957   \n",
       "15998  DBE9ED                     E6F6F9             333333   \n",
       "15999  EEEEEE                     F6F6F6             333333   \n",
       "\n",
       "       profile_use_background_image  \\\n",
       "0                              True   \n",
       "1                              True   \n",
       "2                              True   \n",
       "3                              True   \n",
       "4                             False   \n",
       "...                             ...   \n",
       "15995                          True   \n",
       "15996                          True   \n",
       "15997                          True   \n",
       "15998                          True   \n",
       "15999                          True   \n",
       "\n",
       "                                       profile_image_url  \\\n",
       "0      http://pbs.twimg.com/profile_images/1377639316...   \n",
       "1      http://pbs.twimg.com/profile_images/1298753433...   \n",
       "2      http://pbs.twimg.com/profile_images/2164591892...   \n",
       "3      http://pbs.twimg.com/profile_images/1374293522...   \n",
       "4      http://pbs.twimg.com/profile_images/1371035015...   \n",
       "...                                                  ...   \n",
       "15995  http://pbs.twimg.com/profile_images/1227930885...   \n",
       "15996  http://pbs.twimg.com/profile_images/1212336369...   \n",
       "15997  http://pbs.twimg.com/profile_images/2122378704...   \n",
       "15998  http://pbs.twimg.com/profile_images/1357353644...   \n",
       "15999  http://pbs.twimg.com/profile_images/1377542839...   \n",
       "\n",
       "                                      profile_banner_url  default_profile  \\\n",
       "0      https://pbs.twimg.com/profile_banners/26591985...            False   \n",
       "1      https://pbs.twimg.com/profile_banners/20157774...            False   \n",
       "2      https://pbs.twimg.com/profile_banners/48313128...            False   \n",
       "3      https://pbs.twimg.com/profile_banners/25889185...            False   \n",
       "4      https://pbs.twimg.com/profile_banners/29228071...            False   \n",
       "...                                                  ...              ...   \n",
       "15995  https://pbs.twimg.com/profile_banners/36613165...            False   \n",
       "15996  https://pbs.twimg.com/profile_banners/51392763...            False   \n",
       "15997  https://pbs.twimg.com/profile_banners/87674369...            False   \n",
       "15998  https://pbs.twimg.com/profile_banners/21327439...            False   \n",
       "15999  https://pbs.twimg.com/profile_banners/28669176...            False   \n",
       "\n",
       "       default_profile_image  \n",
       "0                      False  \n",
       "1                      False  \n",
       "2                      False  \n",
       "3                      False  \n",
       "4                      False  \n",
       "...                      ...  \n",
       "15995                  False  \n",
       "15996                  False  \n",
       "15997                  False  \n",
       "15998                  False  \n",
       "15999                  False  \n",
       "\n",
       "[16000 rows x 13 columns]"
      ],
      "text/html": "<div>\n<style scoped>\n    .dataframe tbody tr th:only-of-type {\n        vertical-align: middle;\n    }\n\n    .dataframe tbody tr th {\n        vertical-align: top;\n    }\n\n    .dataframe thead th {\n        text-align: right;\n    }\n</style>\n<table border=\"1\" class=\"dataframe\">\n  <thead>\n    <tr style=\"text-align: right;\">\n      <th></th>\n      <th>lang</th>\n      <th>possibly_sensitive</th>\n      <th>profile_background_color</th>\n      <th>profile_background_image_url</th>\n      <th>profile_link_color</th>\n      <th>user</th>\n      <th>profile_sidebar_fill_color</th>\n      <th>profile_text_color</th>\n      <th>profile_use_background_image</th>\n      <th>profile_image_url</th>\n      <th>profile_banner_url</th>\n      <th>default_profile</th>\n      <th>default_profile_image</th>\n    </tr>\n  </thead>\n  <tbody>\n    <tr>\n      <th>0</th>\n      <td>th</td>\n      <td>False</td>\n      <td>0A0A0A</td>\n      <td>http://abs.twimg.com/images/themes/theme6/bg.gif</td>\n      <td>F58EA8</td>\n      <td>000000</td>\n      <td>A0C5C7</td>\n      <td>333333</td>\n      <td>True</td>\n      <td>http://pbs.twimg.com/profile_images/1377639316...</td>\n      <td>https://pbs.twimg.com/profile_banners/26591985...</td>\n      <td>False</td>\n      <td>False</td>\n    </tr>\n    <tr>\n      <th>1</th>\n      <td>ja</td>\n      <td>False</td>\n      <td>000E2E</td>\n      <td>http://abs.twimg.com/images/themes/theme1/bg.png</td>\n      <td>1750EB</td>\n      <td>000000</td>\n      <td>EFF6FC</td>\n      <td>00297A</td>\n      <td>True</td>\n      <td>http://pbs.twimg.com/profile_images/1298753433...</td>\n      <td>https://pbs.twimg.com/profile_banners/20157774...</td>\n      <td>False</td>\n      <td>False</td>\n    </tr>\n    <tr>\n      <th>2</th>\n      <td>en</td>\n      <td>False</td>\n      <td>222322</td>\n      <td>http://abs.twimg.com/images/themes/theme9/bg.gif</td>\n      <td>0084B4</td>\n      <td>FFFFFF</td>\n      <td>252429</td>\n      <td>666666</td>\n      <td>True</td>\n      <td>http://pbs.twimg.com/profile_images/2164591892...</td>\n      <td>https://pbs.twimg.com/profile_banners/48313128...</td>\n      <td>False</td>\n      <td>False</td>\n    </tr>\n    <tr>\n      <th>3</th>\n      <td>en</td>\n      <td>NaN</td>\n      <td>F07AC7</td>\n      <td>http://abs.twimg.com/images/themes/theme1/bg.png</td>\n      <td>000000</td>\n      <td>000000</td>\n      <td>DDEEF6</td>\n      <td>333333</td>\n      <td>True</td>\n      <td>http://pbs.twimg.com/profile_images/1374293522...</td>\n      <td>https://pbs.twimg.com/profile_banners/25889185...</td>\n      <td>False</td>\n      <td>False</td>\n    </tr>\n    <tr>\n      <th>4</th>\n      <td>ja</td>\n      <td>NaN</td>\n      <td>C4A4DB</td>\n      <td>http://abs.twimg.com/images/themes/theme1/bg.png</td>\n      <td>9266CC</td>\n      <td>65B0DA</td>\n      <td>7AC3EE</td>\n      <td>3D1957</td>\n      <td>False</td>\n      <td>http://pbs.twimg.com/profile_images/1371035015...</td>\n      <td>https://pbs.twimg.com/profile_banners/29228071...</td>\n      <td>False</td>\n      <td>False</td>\n    </tr>\n    <tr>\n      <th>...</th>\n      <td>...</td>\n      <td>...</td>\n      <td>...</td>\n      <td>...</td>\n      <td>...</td>\n      <td>...</td>\n      <td>...</td>\n      <td>...</td>\n      <td>...</td>\n      <td>...</td>\n      <td>...</td>\n      <td>...</td>\n      <td>...</td>\n    </tr>\n    <tr>\n      <th>15995</th>\n      <td>es</td>\n      <td>NaN</td>\n      <td>FFF04D</td>\n      <td>http://abs.twimg.com/images/themes/theme19/bg.gif</td>\n      <td>0099CC</td>\n      <td>FFFFFF</td>\n      <td>F6FFD1</td>\n      <td>333333</td>\n      <td>True</td>\n      <td>http://pbs.twimg.com/profile_images/1227930885...</td>\n      <td>https://pbs.twimg.com/profile_banners/36613165...</td>\n      <td>False</td>\n      <td>False</td>\n    </tr>\n    <tr>\n      <th>15996</th>\n      <td>in</td>\n      <td>NaN</td>\n      <td>A22BA8</td>\n      <td>http://abs.twimg.com/images/themes/theme5/bg.gif</td>\n      <td>722980</td>\n      <td>000000</td>\n      <td>99CC33</td>\n      <td>3E4415</td>\n      <td>True</td>\n      <td>http://pbs.twimg.com/profile_images/1212336369...</td>\n      <td>https://pbs.twimg.com/profile_banners/51392763...</td>\n      <td>False</td>\n      <td>False</td>\n    </tr>\n    <tr>\n      <th>15997</th>\n      <td>ja</td>\n      <td>NaN</td>\n      <td>642D8B</td>\n      <td>http://abs.twimg.com/images/themes/theme1/bg.png</td>\n      <td>E81C4F</td>\n      <td>65B0DA</td>\n      <td>7AC3EE</td>\n      <td>3D1957</td>\n      <td>True</td>\n      <td>http://pbs.twimg.com/profile_images/2122378704...</td>\n      <td>https://pbs.twimg.com/profile_banners/87674369...</td>\n      <td>False</td>\n      <td>False</td>\n    </tr>\n    <tr>\n      <th>15998</th>\n      <td>en</td>\n      <td>NaN</td>\n      <td>DBE9ED</td>\n      <td>http://abs.twimg.com/images/themes/theme17/bg.gif</td>\n      <td>3A3A3A</td>\n      <td>DBE9ED</td>\n      <td>E6F6F9</td>\n      <td>333333</td>\n      <td>True</td>\n      <td>http://pbs.twimg.com/profile_images/1357353644...</td>\n      <td>https://pbs.twimg.com/profile_banners/21327439...</td>\n      <td>False</td>\n      <td>False</td>\n    </tr>\n    <tr>\n      <th>15999</th>\n      <td>in</td>\n      <td>False</td>\n      <td>ACDED6</td>\n      <td>http://abs.twimg.com/images/themes/theme18/bg.gif</td>\n      <td>F5ABB5</td>\n      <td>EEEEEE</td>\n      <td>F6F6F6</td>\n      <td>333333</td>\n      <td>True</td>\n      <td>http://pbs.twimg.com/profile_images/1377542839...</td>\n      <td>https://pbs.twimg.com/profile_banners/28669176...</td>\n      <td>False</td>\n      <td>False</td>\n    </tr>\n  </tbody>\n</table>\n<p>16000 rows × 13 columns</p>\n</div>"
     },
     "metadata": {},
     "execution_count": 3
    }
   ],
   "source": [
    "df"
   ]
  },
  {
   "cell_type": "code",
   "execution_count": 32,
   "metadata": {},
   "outputs": [
    {
     "output_type": "execute_result",
     "data": {
      "text/plain": [
       "54"
      ]
     },
     "metadata": {},
     "execution_count": 32
    }
   ],
   "source": [
    "# How many different languages are used in this part of the stream?\n",
    "\n",
    "pd.Series(df.lang.unique()).count()"
   ]
  },
  {
   "cell_type": "code",
   "execution_count": 29,
   "metadata": {},
   "outputs": [
    {
     "output_type": "execute_result",
     "data": {
      "text/plain": [
       "en     4291\n",
       "ja     3751\n",
       "th     2211\n",
       "es     1057\n",
       "und     889\n",
       "in      846\n",
       "pt      400\n",
       "fr      382\n",
       "ko      377\n",
       "tr      298\n",
       "ar      200\n",
       "de      193\n",
       "tl      182\n",
       "it      158\n",
       "ru      120\n",
       "nl      104\n",
       "hi       99\n",
       "ca       61\n",
       "el       42\n",
       "pl       34\n",
       "et       25\n",
       "sv       25\n",
       "ht       24\n",
       "zh       24\n",
       "fa       20\n",
       "ta       18\n",
       "fi       15\n",
       "cs       13\n",
       "iw       12\n",
       "lv       12\n",
       "uk       11\n",
       "no       10\n",
       "eu        9\n",
       "da        8\n",
       "ml        7\n",
       "ro        7\n",
       "sr        7\n",
       "cy        7\n",
       "sl        7\n",
       "hu        6\n",
       "ne        6\n",
       "mr        5\n",
       "bg        4\n",
       "ur        4\n",
       "te        3\n",
       "is        2\n",
       "vi        2\n",
       "lt        2\n",
       "kn        2\n",
       "hy        2\n",
       "sd        2\n",
       "gu        2\n",
       "si        1\n",
       "pa        1\n",
       "Name: lang, dtype: int64"
      ]
     },
     "metadata": {},
     "execution_count": 29
    }
   ],
   "source": [
    "# Distribution of tweets in different languages\n",
    "\n",
    "df.lang.value_counts()"
   ]
  },
  {
   "cell_type": "code",
   "execution_count": 21,
   "metadata": {},
   "outputs": [
    {
     "output_type": "execute_result",
     "data": {
      "text/plain": [
       "2"
      ]
     },
     "metadata": {},
     "execution_count": 21
    }
   ],
   "source": [
    "df.possibly_sensitive.unique()"
   ]
  },
  {
   "cell_type": "code",
   "execution_count": 28,
   "metadata": {},
   "outputs": [
    {
     "output_type": "execute_result",
     "data": {
      "text/plain": [
       "False    5043\n",
       "True      233\n",
       "Name: possibly_sensitive, dtype: int64"
      ]
     },
     "metadata": {},
     "execution_count": 28
    }
   ],
   "source": [
    "df.possibly_sensitive.value_counts()"
   ]
  }
 ]
}